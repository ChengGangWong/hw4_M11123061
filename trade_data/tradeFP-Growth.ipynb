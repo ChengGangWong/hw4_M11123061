{
 "cells": [
  {
   "cell_type": "code",
   "execution_count": 1,
   "metadata": {},
   "outputs": [
    {
     "name": "stdout",
     "output_type": "stream",
     "text": [
      "Requirement already satisfied: pandas in c:\\users\\user\\anaconda3\\lib\\site-packages (1.4.2)Note: you may need to restart the kernel to use updated packages.\n",
      "Requirement already satisfied: pytz>=2020.1 in c:\\users\\user\\anaconda3\\lib\\site-packages (from pandas) (2021.3)\n",
      "Requirement already satisfied: python-dateutil>=2.8.1 in c:\\users\\user\\anaconda3\\lib\\site-packages (from pandas) (2.8.2)\n",
      "Requirement already satisfied: numpy>=1.18.5 in c:\\users\\user\\anaconda3\\lib\\site-packages (from pandas) (1.21.5)\n",
      "Requirement already satisfied: six>=1.5 in c:\\users\\user\\anaconda3\\lib\\site-packages (from python-dateutil>=2.8.1->pandas) (1.16.0)\n",
      "\n"
     ]
    }
   ],
   "source": [
    "pip install pandas"
   ]
  },
  {
   "cell_type": "code",
   "execution_count": 2,
   "metadata": {},
   "outputs": [
    {
     "name": "stdout",
     "output_type": "stream",
     "text": [
      "Requirement already satisfied: mlxtend in c:\\users\\user\\anaconda3\\lib\\site-packages (0.21.0)\n",
      "Requirement already satisfied: setuptools in c:\\users\\user\\anaconda3\\lib\\site-packages (from mlxtend) (61.2.0)\n",
      "Requirement already satisfied: numpy>=1.16.2 in c:\\users\\user\\anaconda3\\lib\\site-packages (from mlxtend) (1.21.5)\n",
      "Requirement already satisfied: pandas>=0.24.2 in c:\\users\\user\\anaconda3\\lib\\site-packages (from mlxtend) (1.4.2)\n",
      "Requirement already satisfied: scikit-learn>=1.0.2 in c:\\users\\user\\anaconda3\\lib\\site-packages (from mlxtend) (1.0.2)\n",
      "Requirement already satisfied: scipy>=1.2.1 in c:\\users\\user\\anaconda3\\lib\\site-packages (from mlxtend) (1.7.3)\n",
      "Requirement already satisfied: matplotlib>=3.0.0 in c:\\users\\user\\anaconda3\\lib\\site-packages (from mlxtend) (3.5.1)\n",
      "Requirement already satisfied: joblib>=0.13.2 in c:\\users\\user\\anaconda3\\lib\\site-packages (from mlxtend) (1.1.0)\n",
      "Requirement already satisfied: kiwisolver>=1.0.1 in c:\\users\\user\\anaconda3\\lib\\site-packages (from matplotlib>=3.0.0->mlxtend) (1.3.2)\n",
      "Requirement already satisfied: packaging>=20.0 in c:\\users\\user\\anaconda3\\lib\\site-packages (from matplotlib>=3.0.0->mlxtend) (21.3)\n",
      "Requirement already satisfied: cycler>=0.10 in c:\\users\\user\\anaconda3\\lib\\site-packages (from matplotlib>=3.0.0->mlxtend) (0.11.0)\n",
      "Requirement already satisfied: pyparsing>=2.2.1 in c:\\users\\user\\anaconda3\\lib\\site-packages (from matplotlib>=3.0.0->mlxtend) (3.0.4)\n",
      "Requirement already satisfied: fonttools>=4.22.0 in c:\\users\\user\\anaconda3\\lib\\site-packages (from matplotlib>=3.0.0->mlxtend) (4.25.0)\n",
      "Requirement already satisfied: pillow>=6.2.0 in c:\\users\\user\\anaconda3\\lib\\site-packages (from matplotlib>=3.0.0->mlxtend) (9.0.1)\n",
      "Requirement already satisfied: python-dateutil>=2.7 in c:\\users\\user\\anaconda3\\lib\\site-packages (from matplotlib>=3.0.0->mlxtend) (2.8.2)\n",
      "Requirement already satisfied: pytz>=2020.1 in c:\\users\\user\\anaconda3\\lib\\site-packages (from pandas>=0.24.2->mlxtend) (2021.3)\n",
      "Requirement already satisfied: six>=1.5 in c:\\users\\user\\anaconda3\\lib\\site-packages (from python-dateutil>=2.7->matplotlib>=3.0.0->mlxtend) (1.16.0)\n",
      "Requirement already satisfied: threadpoolctl>=2.0.0 in c:\\users\\user\\anaconda3\\lib\\site-packages (from scikit-learn>=1.0.2->mlxtend) (2.2.0)\n",
      "Note: you may need to restart the kernel to use updated packages.\n"
     ]
    }
   ],
   "source": [
    "pip install mlxtend"
   ]
  },
  {
   "cell_type": "code",
   "execution_count": 3,
   "metadata": {},
   "outputs": [
    {
     "name": "stdout",
     "output_type": "stream",
     "text": [
      "Requirement already satisfied: apyori in c:\\users\\user\\anaconda3\\lib\\site-packages (1.1.2)Note: you may need to restart the kernel to use updated packages.\n",
      "\n"
     ]
    }
   ],
   "source": [
    "pip install apyori"
   ]
  },
  {
   "cell_type": "code",
   "execution_count": 4,
   "metadata": {},
   "outputs": [
    {
     "name": "stdout",
     "output_type": "stream",
     "text": [
      "Requirement already satisfied: plotly in c:\\users\\user\\anaconda3\\lib\\site-packages (5.6.0)\n",
      "Requirement already satisfied: six in c:\\users\\user\\anaconda3\\lib\\site-packages (from plotly) (1.16.0)\n",
      "Requirement already satisfied: tenacity>=6.2.0 in c:\\users\\user\\anaconda3\\lib\\site-packages (from plotly) (8.0.1)\n",
      "Note: you may need to restart the kernel to use updated packages.\n"
     ]
    }
   ],
   "source": [
    "pip install plotly"
   ]
  },
  {
   "cell_type": "code",
   "execution_count": 5,
   "metadata": {},
   "outputs": [
    {
     "name": "stdout",
     "output_type": "stream",
     "text": [
      "Requirement already satisfied: fpgrowth in c:\\users\\user\\anaconda3\\lib\\site-packages (1.0.0)\n",
      "Note: you may need to restart the kernel to use updated packages.\n"
     ]
    }
   ],
   "source": [
    "pip install fpgrowth"
   ]
  },
  {
   "cell_type": "code",
   "execution_count": 12,
   "metadata": {},
   "outputs": [],
   "source": [
    "import numpy as np\n",
    "import pandas as pd\n",
    "import matplotlib.pyplot as plt\n",
    "from sklearn.preprocessing import LabelEncoder\n",
    "from matplotlib import pyplot as plt\n",
    "from sklearn import metrics\n",
    "from sklearn import datasets\n",
    "from sklearn.model_selection import train_test_split\n",
    "from mlxtend.frequent_patterns import apriori\n",
    "from apyori import apriori\n",
    "from skimage.io import imread\n",
    "from skimage.transform import resize\n",
    "from mlxtend.preprocessing import TransactionEncoder\n",
    "from mlxtend.frequent_patterns import fpgrowth\n",
    "from mlxtend.frequent_patterns import association_rules\n"
   ]
  },
  {
   "cell_type": "code",
   "execution_count": 13,
   "metadata": {},
   "outputs": [
    {
     "data": {
      "text/html": [
       "<div>\n",
       "<style scoped>\n",
       "    .dataframe tbody tr th:only-of-type {\n",
       "        vertical-align: middle;\n",
       "    }\n",
       "\n",
       "    .dataframe tbody tr th {\n",
       "        vertical-align: top;\n",
       "    }\n",
       "\n",
       "    .dataframe thead th {\n",
       "        text-align: right;\n",
       "    }\n",
       "</style>\n",
       "<table border=\"1\" class=\"dataframe\">\n",
       "  <thead>\n",
       "    <tr style=\"text-align: right;\">\n",
       "      <th></th>\n",
       "      <th>0</th>\n",
       "      <th>1</th>\n",
       "      <th>2</th>\n",
       "      <th>3</th>\n",
       "      <th>4</th>\n",
       "      <th>5</th>\n",
       "      <th>6</th>\n",
       "    </tr>\n",
       "  </thead>\n",
       "  <tbody>\n",
       "    <tr>\n",
       "      <th>0</th>\n",
       "      <td>LINEAR IC</td>\n",
       "      <td>LOGIC IC</td>\n",
       "      <td>MEMORY_EMBEDED</td>\n",
       "      <td>NaN</td>\n",
       "      <td>NaN</td>\n",
       "      <td>NaN</td>\n",
       "      <td>NaN</td>\n",
       "    </tr>\n",
       "    <tr>\n",
       "      <th>1</th>\n",
       "      <td>CPU / MPU</td>\n",
       "      <td>DISCRETE</td>\n",
       "      <td>LINEAR IC</td>\n",
       "      <td>PEMCO</td>\n",
       "      <td>NaN</td>\n",
       "      <td>NaN</td>\n",
       "      <td>NaN</td>\n",
       "    </tr>\n",
       "    <tr>\n",
       "      <th>2</th>\n",
       "      <td>CHIPSET / ASP</td>\n",
       "      <td>CPU / MPU</td>\n",
       "      <td>LINEAR IC</td>\n",
       "      <td>NaN</td>\n",
       "      <td>NaN</td>\n",
       "      <td>NaN</td>\n",
       "      <td>NaN</td>\n",
       "    </tr>\n",
       "    <tr>\n",
       "      <th>3</th>\n",
       "      <td>DISCRETE</td>\n",
       "      <td>LINEAR IC</td>\n",
       "      <td>OPTICAL AND SENSOR</td>\n",
       "      <td>NaN</td>\n",
       "      <td>NaN</td>\n",
       "      <td>NaN</td>\n",
       "      <td>NaN</td>\n",
       "    </tr>\n",
       "    <tr>\n",
       "      <th>4</th>\n",
       "      <td>CHIPSET / ASP</td>\n",
       "      <td>DISCRETE</td>\n",
       "      <td>LINEAR IC</td>\n",
       "      <td>MEMORY_SYSTEM</td>\n",
       "      <td>NaN</td>\n",
       "      <td>NaN</td>\n",
       "      <td>NaN</td>\n",
       "    </tr>\n",
       "    <tr>\n",
       "      <th>5</th>\n",
       "      <td>CPU / MPU</td>\n",
       "      <td>LOGIC IC</td>\n",
       "      <td>MEMORY_EMBEDED</td>\n",
       "      <td>NaN</td>\n",
       "      <td>NaN</td>\n",
       "      <td>NaN</td>\n",
       "      <td>NaN</td>\n",
       "    </tr>\n",
       "    <tr>\n",
       "      <th>6</th>\n",
       "      <td>OTHERS</td>\n",
       "      <td>PEMCO</td>\n",
       "      <td>NaN</td>\n",
       "      <td>NaN</td>\n",
       "      <td>NaN</td>\n",
       "      <td>NaN</td>\n",
       "      <td>NaN</td>\n",
       "    </tr>\n",
       "    <tr>\n",
       "      <th>7</th>\n",
       "      <td>DISCRETE</td>\n",
       "      <td>MEMORY_SYSTEM</td>\n",
       "      <td>NaN</td>\n",
       "      <td>NaN</td>\n",
       "      <td>NaN</td>\n",
       "      <td>NaN</td>\n",
       "      <td>NaN</td>\n",
       "    </tr>\n",
       "    <tr>\n",
       "      <th>8</th>\n",
       "      <td>PEMCO</td>\n",
       "      <td>NaN</td>\n",
       "      <td>NaN</td>\n",
       "      <td>NaN</td>\n",
       "      <td>NaN</td>\n",
       "      <td>NaN</td>\n",
       "      <td>NaN</td>\n",
       "    </tr>\n",
       "    <tr>\n",
       "      <th>9</th>\n",
       "      <td>LINEAR IC</td>\n",
       "      <td>MEMORY_EMBEDED</td>\n",
       "      <td>OTHERS</td>\n",
       "      <td>NaN</td>\n",
       "      <td>NaN</td>\n",
       "      <td>NaN</td>\n",
       "      <td>NaN</td>\n",
       "    </tr>\n",
       "  </tbody>\n",
       "</table>\n",
       "</div>"
      ],
      "text/plain": [
       "               0               1                   2              3    4    5  \\\n",
       "0      LINEAR IC        LOGIC IC      MEMORY_EMBEDED            NaN  NaN  NaN   \n",
       "1      CPU / MPU        DISCRETE           LINEAR IC          PEMCO  NaN  NaN   \n",
       "2  CHIPSET / ASP       CPU / MPU           LINEAR IC            NaN  NaN  NaN   \n",
       "3       DISCRETE       LINEAR IC  OPTICAL AND SENSOR            NaN  NaN  NaN   \n",
       "4  CHIPSET / ASP        DISCRETE           LINEAR IC  MEMORY_SYSTEM  NaN  NaN   \n",
       "5      CPU / MPU        LOGIC IC      MEMORY_EMBEDED            NaN  NaN  NaN   \n",
       "6         OTHERS           PEMCO                 NaN            NaN  NaN  NaN   \n",
       "7       DISCRETE   MEMORY_SYSTEM                 NaN            NaN  NaN  NaN   \n",
       "8          PEMCO             NaN                 NaN            NaN  NaN  NaN   \n",
       "9      LINEAR IC  MEMORY_EMBEDED              OTHERS            NaN  NaN  NaN   \n",
       "\n",
       "     6  \n",
       "0  NaN  \n",
       "1  NaN  \n",
       "2  NaN  \n",
       "3  NaN  \n",
       "4  NaN  \n",
       "5  NaN  \n",
       "6  NaN  \n",
       "7  NaN  \n",
       "8  NaN  \n",
       "9  NaN  "
      ]
     },
     "execution_count": 13,
     "metadata": {},
     "output_type": "execute_result"
    }
   ],
   "source": [
    "import pandas as pd\n",
    "import numpy as np\n",
    "from mlxtend.frequent_patterns import fpgrowth, association_rules\n",
    "import matplotlib.pyplot as plt\n",
    "data = pd.read_csv('Trade_Data_Normalization_v7.csv', sep=',') \n",
    "data.head(10)"
   ]
  },
  {
   "cell_type": "code",
   "execution_count": 14,
   "metadata": {},
   "outputs": [
    {
     "name": "stdout",
     "output_type": "stream",
     "text": [
      "['LINEAR IC' 'LOGIC IC' 'MEMORY_EMBEDED' ... 'nan' 'nan' 'nan']\n"
     ]
    }
   ],
   "source": [
    "import numpy as np\n",
    "\n",
    "# Gather All Items of Each Transactions into Numpy Array\n",
    "transaction = []\n",
    "for i in range(0, data.shape[0]):\n",
    "    for j in range(0, data.shape[1]):\n",
    "        transaction.append(data.values[i,j])\n",
    "\n",
    "# converting to numpy array\n",
    "transaction = np.array(transaction)\n",
    "print(transaction)"
   ]
  },
  {
   "cell_type": "code",
   "execution_count": 15,
   "metadata": {},
   "outputs": [
    {
     "data": {
      "text/html": [
       "<style type=\"text/css\">\n",
       "#T_970ce_row0_col1 {\n",
       "  background-color: #08306b;\n",
       "  color: #f1f1f1;\n",
       "}\n",
       "#T_970ce_row1_col1 {\n",
       "  background-color: #084082;\n",
       "  color: #f1f1f1;\n",
       "}\n",
       "#T_970ce_row2_col1 {\n",
       "  background-color: #3484bf;\n",
       "  color: #f1f1f1;\n",
       "}\n",
       "#T_970ce_row3_col1 {\n",
       "  background-color: #f2f7fd;\n",
       "  color: #000000;\n",
       "}\n",
       "#T_970ce_row4_col1 {\n",
       "  background-color: #f7fbff;\n",
       "  color: #000000;\n",
       "}\n",
       "</style>\n",
       "<table id=\"T_970ce\">\n",
       "  <thead>\n",
       "    <tr>\n",
       "      <th class=\"blank level0\" >&nbsp;</th>\n",
       "      <th id=\"T_970ce_level0_col0\" class=\"col_heading level0 col0\" >items</th>\n",
       "      <th id=\"T_970ce_level0_col1\" class=\"col_heading level0 col1\" >incident_count</th>\n",
       "    </tr>\n",
       "  </thead>\n",
       "  <tbody>\n",
       "    <tr>\n",
       "      <th id=\"T_970ce_level0_row0\" class=\"row_heading level0 row0\" >0</th>\n",
       "      <td id=\"T_970ce_row0_col0\" class=\"data row0 col0\" >DISCRETE</td>\n",
       "      <td id=\"T_970ce_row0_col1\" class=\"data row0 col1\" >95</td>\n",
       "    </tr>\n",
       "    <tr>\n",
       "      <th id=\"T_970ce_level0_row1\" class=\"row_heading level0 row1\" >1</th>\n",
       "      <td id=\"T_970ce_row1_col0\" class=\"data row1 col0\" >LINEAR IC</td>\n",
       "      <td id=\"T_970ce_row1_col1\" class=\"data row1 col1\" >93</td>\n",
       "    </tr>\n",
       "    <tr>\n",
       "      <th id=\"T_970ce_level0_row2\" class=\"row_heading level0 row2\" >2</th>\n",
       "      <td id=\"T_970ce_row2_col0\" class=\"data row2 col0\" >LOGIC IC</td>\n",
       "      <td id=\"T_970ce_row2_col1\" class=\"data row2 col1\" >84</td>\n",
       "    </tr>\n",
       "    <tr>\n",
       "      <th id=\"T_970ce_level0_row3\" class=\"row_heading level0 row3\" >3</th>\n",
       "      <td id=\"T_970ce_row3_col0\" class=\"data row3 col0\" >MEMORY_EMBEDED</td>\n",
       "      <td id=\"T_970ce_row3_col1\" class=\"data row3 col1\" >62</td>\n",
       "    </tr>\n",
       "    <tr>\n",
       "      <th id=\"T_970ce_level0_row4\" class=\"row_heading level0 row4\" >4</th>\n",
       "      <td id=\"T_970ce_row4_col0\" class=\"data row4 col0\" >OTHERS</td>\n",
       "      <td id=\"T_970ce_row4_col1\" class=\"data row4 col1\" >61</td>\n",
       "    </tr>\n",
       "  </tbody>\n",
       "</table>\n"
      ],
      "text/plain": [
       "<pandas.io.formats.style.Styler at 0x25bd522e910>"
      ]
     },
     "execution_count": 15,
     "metadata": {},
     "output_type": "execute_result"
    }
   ],
   "source": [
    "#  Transform Them a Pandas DataFrame\n",
    "df = pd.DataFrame(transaction, columns=[\"items\"]) \n",
    "\n",
    "# Put 1 to Each Item For Making Countable Table, to be able to perform Group By\n",
    "df[\"incident_count\"] = 1 \n",
    "\n",
    "#  Delete NaN Items from Dataset\n",
    "indexNames = df[df['items'] == \"nan\" ].index\n",
    "df.drop(indexNames , inplace=True)\n",
    "\n",
    "# Making a New Appropriate Pandas DataFrame for Visualizations  \n",
    "df_table = df.groupby(\"items\").sum().sort_values(\"incident_count\", ascending=False).reset_index()\n",
    "\n",
    "#  Initial Visualizations\n",
    "df_table.head(5).style.background_gradient(cmap='Blues')"
   ]
  },
  {
   "cell_type": "code",
   "execution_count": 16,
   "metadata": {},
   "outputs": [
    {
     "name": "stderr",
     "output_type": "stream",
     "text": [
      "c:\\Users\\USER\\anaconda3\\lib\\site-packages\\plotly\\express\\_core.py:1637: FutureWarning:\n",
      "\n",
      "The frame.append method is deprecated and will be removed from pandas in a future version. Use pandas.concat instead.\n",
      "\n",
      "c:\\Users\\USER\\anaconda3\\lib\\site-packages\\plotly\\express\\_core.py:1637: FutureWarning:\n",
      "\n",
      "The frame.append method is deprecated and will be removed from pandas in a future version. Use pandas.concat instead.\n",
      "\n",
      "c:\\Users\\USER\\anaconda3\\lib\\site-packages\\plotly\\io\\_renderers.py:396: DeprecationWarning:\n",
      "\n",
      "distutils Version classes are deprecated. Use packaging.version instead.\n",
      "\n",
      "c:\\Users\\USER\\anaconda3\\lib\\site-packages\\plotly\\io\\_renderers.py:396: DeprecationWarning:\n",
      "\n",
      "distutils Version classes are deprecated. Use packaging.version instead.\n",
      "\n"
     ]
    },
    {
     "data": {
      "application/vnd.plotly.v1+json": {
       "config": {
        "plotlyServerURL": "https://plot.ly"
       },
       "data": [
        {
         "branchvalues": "total",
         "customdata": [
          [
           "CHIPSET / ASP",
           42
          ],
          [
           "CPU / MPU",
           56
          ],
          [
           "DISCRETE",
           95
          ],
          [
           "LINEAR IC",
           93
          ],
          [
           "LOGIC IC",
           84
          ],
          [
           "MEMORY_EMBEDED",
           62
          ],
          [
           "MEMORY_SYSTEM",
           32
          ],
          [
           "OPTICAL AND SENSOR",
           46
          ],
          [
           "OTHERS",
           61
          ],
          [
           "PEMCO",
           39
          ],
          [
           "(?)",
           68.61639344262295
          ]
         ],
         "domain": {
          "x": [
           0,
           1
          ],
          "y": [
           0,
           1
          ]
         },
         "hovertemplate": "labels=%{label}<br>incident_count=%{value}<br>parent=%{parent}<br>id=%{id}<br>items=%{customdata[0]}<br>color=%{color}<extra></extra>",
         "ids": [
          "Top 50 items/CHIPSET / ASP",
          "Top 50 items/CPU / MPU",
          "Top 50 items/DISCRETE",
          "Top 50 items/LINEAR IC",
          "Top 50 items/LOGIC IC",
          "Top 50 items/MEMORY_EMBEDED",
          "Top 50 items/MEMORY_SYSTEM",
          "Top 50 items/OPTICAL AND SENSOR",
          "Top 50 items/OTHERS",
          "Top 50 items/PEMCO",
          "Top 50 items"
         ],
         "labels": [
          "CHIPSET / ASP",
          "CPU / MPU",
          "DISCRETE",
          "LINEAR IC",
          "LOGIC IC",
          "MEMORY_EMBEDED",
          "MEMORY_SYSTEM",
          "OPTICAL AND SENSOR",
          "OTHERS",
          "PEMCO",
          "Top 50 items"
         ],
         "marker": {
          "coloraxis": "coloraxis",
          "colors": [
           42,
           56,
           95,
           93,
           84,
           62,
           32,
           46,
           61,
           39,
           68.61639344262295
          ]
         },
         "name": "",
         "parents": [
          "Top 50 items",
          "Top 50 items",
          "Top 50 items",
          "Top 50 items",
          "Top 50 items",
          "Top 50 items",
          "Top 50 items",
          "Top 50 items",
          "Top 50 items",
          "Top 50 items",
          ""
         ],
         "type": "treemap",
         "values": [
          42,
          56,
          95,
          93,
          84,
          62,
          32,
          46,
          61,
          39,
          610
         ]
        }
       ],
       "layout": {
        "coloraxis": {
         "colorbar": {
          "title": {
           "text": "color"
          }
         },
         "colorscale": [
          [
           0,
           "rgb(247,251,255)"
          ],
          [
           0.125,
           "rgb(222,235,247)"
          ],
          [
           0.25,
           "rgb(198,219,239)"
          ],
          [
           0.375,
           "rgb(158,202,225)"
          ],
          [
           0.5,
           "rgb(107,174,214)"
          ],
          [
           0.625,
           "rgb(66,146,198)"
          ],
          [
           0.75,
           "rgb(33,113,181)"
          ],
          [
           0.875,
           "rgb(8,81,156)"
          ],
          [
           1,
           "rgb(8,48,107)"
          ]
         ]
        },
        "legend": {
         "tracegroupgap": 0
        },
        "margin": {
         "t": 60
        },
        "template": {
         "data": {
          "bar": [
           {
            "error_x": {
             "color": "#2a3f5f"
            },
            "error_y": {
             "color": "#2a3f5f"
            },
            "marker": {
             "line": {
              "color": "#E5ECF6",
              "width": 0.5
             },
             "pattern": {
              "fillmode": "overlay",
              "size": 10,
              "solidity": 0.2
             }
            },
            "type": "bar"
           }
          ],
          "barpolar": [
           {
            "marker": {
             "line": {
              "color": "#E5ECF6",
              "width": 0.5
             },
             "pattern": {
              "fillmode": "overlay",
              "size": 10,
              "solidity": 0.2
             }
            },
            "type": "barpolar"
           }
          ],
          "carpet": [
           {
            "aaxis": {
             "endlinecolor": "#2a3f5f",
             "gridcolor": "white",
             "linecolor": "white",
             "minorgridcolor": "white",
             "startlinecolor": "#2a3f5f"
            },
            "baxis": {
             "endlinecolor": "#2a3f5f",
             "gridcolor": "white",
             "linecolor": "white",
             "minorgridcolor": "white",
             "startlinecolor": "#2a3f5f"
            },
            "type": "carpet"
           }
          ],
          "choropleth": [
           {
            "colorbar": {
             "outlinewidth": 0,
             "ticks": ""
            },
            "type": "choropleth"
           }
          ],
          "contour": [
           {
            "colorbar": {
             "outlinewidth": 0,
             "ticks": ""
            },
            "colorscale": [
             [
              0,
              "#0d0887"
             ],
             [
              0.1111111111111111,
              "#46039f"
             ],
             [
              0.2222222222222222,
              "#7201a8"
             ],
             [
              0.3333333333333333,
              "#9c179e"
             ],
             [
              0.4444444444444444,
              "#bd3786"
             ],
             [
              0.5555555555555556,
              "#d8576b"
             ],
             [
              0.6666666666666666,
              "#ed7953"
             ],
             [
              0.7777777777777778,
              "#fb9f3a"
             ],
             [
              0.8888888888888888,
              "#fdca26"
             ],
             [
              1,
              "#f0f921"
             ]
            ],
            "type": "contour"
           }
          ],
          "contourcarpet": [
           {
            "colorbar": {
             "outlinewidth": 0,
             "ticks": ""
            },
            "type": "contourcarpet"
           }
          ],
          "heatmap": [
           {
            "colorbar": {
             "outlinewidth": 0,
             "ticks": ""
            },
            "colorscale": [
             [
              0,
              "#0d0887"
             ],
             [
              0.1111111111111111,
              "#46039f"
             ],
             [
              0.2222222222222222,
              "#7201a8"
             ],
             [
              0.3333333333333333,
              "#9c179e"
             ],
             [
              0.4444444444444444,
              "#bd3786"
             ],
             [
              0.5555555555555556,
              "#d8576b"
             ],
             [
              0.6666666666666666,
              "#ed7953"
             ],
             [
              0.7777777777777778,
              "#fb9f3a"
             ],
             [
              0.8888888888888888,
              "#fdca26"
             ],
             [
              1,
              "#f0f921"
             ]
            ],
            "type": "heatmap"
           }
          ],
          "heatmapgl": [
           {
            "colorbar": {
             "outlinewidth": 0,
             "ticks": ""
            },
            "colorscale": [
             [
              0,
              "#0d0887"
             ],
             [
              0.1111111111111111,
              "#46039f"
             ],
             [
              0.2222222222222222,
              "#7201a8"
             ],
             [
              0.3333333333333333,
              "#9c179e"
             ],
             [
              0.4444444444444444,
              "#bd3786"
             ],
             [
              0.5555555555555556,
              "#d8576b"
             ],
             [
              0.6666666666666666,
              "#ed7953"
             ],
             [
              0.7777777777777778,
              "#fb9f3a"
             ],
             [
              0.8888888888888888,
              "#fdca26"
             ],
             [
              1,
              "#f0f921"
             ]
            ],
            "type": "heatmapgl"
           }
          ],
          "histogram": [
           {
            "marker": {
             "pattern": {
              "fillmode": "overlay",
              "size": 10,
              "solidity": 0.2
             }
            },
            "type": "histogram"
           }
          ],
          "histogram2d": [
           {
            "colorbar": {
             "outlinewidth": 0,
             "ticks": ""
            },
            "colorscale": [
             [
              0,
              "#0d0887"
             ],
             [
              0.1111111111111111,
              "#46039f"
             ],
             [
              0.2222222222222222,
              "#7201a8"
             ],
             [
              0.3333333333333333,
              "#9c179e"
             ],
             [
              0.4444444444444444,
              "#bd3786"
             ],
             [
              0.5555555555555556,
              "#d8576b"
             ],
             [
              0.6666666666666666,
              "#ed7953"
             ],
             [
              0.7777777777777778,
              "#fb9f3a"
             ],
             [
              0.8888888888888888,
              "#fdca26"
             ],
             [
              1,
              "#f0f921"
             ]
            ],
            "type": "histogram2d"
           }
          ],
          "histogram2dcontour": [
           {
            "colorbar": {
             "outlinewidth": 0,
             "ticks": ""
            },
            "colorscale": [
             [
              0,
              "#0d0887"
             ],
             [
              0.1111111111111111,
              "#46039f"
             ],
             [
              0.2222222222222222,
              "#7201a8"
             ],
             [
              0.3333333333333333,
              "#9c179e"
             ],
             [
              0.4444444444444444,
              "#bd3786"
             ],
             [
              0.5555555555555556,
              "#d8576b"
             ],
             [
              0.6666666666666666,
              "#ed7953"
             ],
             [
              0.7777777777777778,
              "#fb9f3a"
             ],
             [
              0.8888888888888888,
              "#fdca26"
             ],
             [
              1,
              "#f0f921"
             ]
            ],
            "type": "histogram2dcontour"
           }
          ],
          "mesh3d": [
           {
            "colorbar": {
             "outlinewidth": 0,
             "ticks": ""
            },
            "type": "mesh3d"
           }
          ],
          "parcoords": [
           {
            "line": {
             "colorbar": {
              "outlinewidth": 0,
              "ticks": ""
             }
            },
            "type": "parcoords"
           }
          ],
          "pie": [
           {
            "automargin": true,
            "type": "pie"
           }
          ],
          "scatter": [
           {
            "marker": {
             "colorbar": {
              "outlinewidth": 0,
              "ticks": ""
             }
            },
            "type": "scatter"
           }
          ],
          "scatter3d": [
           {
            "line": {
             "colorbar": {
              "outlinewidth": 0,
              "ticks": ""
             }
            },
            "marker": {
             "colorbar": {
              "outlinewidth": 0,
              "ticks": ""
             }
            },
            "type": "scatter3d"
           }
          ],
          "scattercarpet": [
           {
            "marker": {
             "colorbar": {
              "outlinewidth": 0,
              "ticks": ""
             }
            },
            "type": "scattercarpet"
           }
          ],
          "scattergeo": [
           {
            "marker": {
             "colorbar": {
              "outlinewidth": 0,
              "ticks": ""
             }
            },
            "type": "scattergeo"
           }
          ],
          "scattergl": [
           {
            "marker": {
             "colorbar": {
              "outlinewidth": 0,
              "ticks": ""
             }
            },
            "type": "scattergl"
           }
          ],
          "scattermapbox": [
           {
            "marker": {
             "colorbar": {
              "outlinewidth": 0,
              "ticks": ""
             }
            },
            "type": "scattermapbox"
           }
          ],
          "scatterpolar": [
           {
            "marker": {
             "colorbar": {
              "outlinewidth": 0,
              "ticks": ""
             }
            },
            "type": "scatterpolar"
           }
          ],
          "scatterpolargl": [
           {
            "marker": {
             "colorbar": {
              "outlinewidth": 0,
              "ticks": ""
             }
            },
            "type": "scatterpolargl"
           }
          ],
          "scatterternary": [
           {
            "marker": {
             "colorbar": {
              "outlinewidth": 0,
              "ticks": ""
             }
            },
            "type": "scatterternary"
           }
          ],
          "surface": [
           {
            "colorbar": {
             "outlinewidth": 0,
             "ticks": ""
            },
            "colorscale": [
             [
              0,
              "#0d0887"
             ],
             [
              0.1111111111111111,
              "#46039f"
             ],
             [
              0.2222222222222222,
              "#7201a8"
             ],
             [
              0.3333333333333333,
              "#9c179e"
             ],
             [
              0.4444444444444444,
              "#bd3786"
             ],
             [
              0.5555555555555556,
              "#d8576b"
             ],
             [
              0.6666666666666666,
              "#ed7953"
             ],
             [
              0.7777777777777778,
              "#fb9f3a"
             ],
             [
              0.8888888888888888,
              "#fdca26"
             ],
             [
              1,
              "#f0f921"
             ]
            ],
            "type": "surface"
           }
          ],
          "table": [
           {
            "cells": {
             "fill": {
              "color": "#EBF0F8"
             },
             "line": {
              "color": "white"
             }
            },
            "header": {
             "fill": {
              "color": "#C8D4E3"
             },
             "line": {
              "color": "white"
             }
            },
            "type": "table"
           }
          ]
         },
         "layout": {
          "annotationdefaults": {
           "arrowcolor": "#2a3f5f",
           "arrowhead": 0,
           "arrowwidth": 1
          },
          "autotypenumbers": "strict",
          "coloraxis": {
           "colorbar": {
            "outlinewidth": 0,
            "ticks": ""
           }
          },
          "colorscale": {
           "diverging": [
            [
             0,
             "#8e0152"
            ],
            [
             0.1,
             "#c51b7d"
            ],
            [
             0.2,
             "#de77ae"
            ],
            [
             0.3,
             "#f1b6da"
            ],
            [
             0.4,
             "#fde0ef"
            ],
            [
             0.5,
             "#f7f7f7"
            ],
            [
             0.6,
             "#e6f5d0"
            ],
            [
             0.7,
             "#b8e186"
            ],
            [
             0.8,
             "#7fbc41"
            ],
            [
             0.9,
             "#4d9221"
            ],
            [
             1,
             "#276419"
            ]
           ],
           "sequential": [
            [
             0,
             "#0d0887"
            ],
            [
             0.1111111111111111,
             "#46039f"
            ],
            [
             0.2222222222222222,
             "#7201a8"
            ],
            [
             0.3333333333333333,
             "#9c179e"
            ],
            [
             0.4444444444444444,
             "#bd3786"
            ],
            [
             0.5555555555555556,
             "#d8576b"
            ],
            [
             0.6666666666666666,
             "#ed7953"
            ],
            [
             0.7777777777777778,
             "#fb9f3a"
            ],
            [
             0.8888888888888888,
             "#fdca26"
            ],
            [
             1,
             "#f0f921"
            ]
           ],
           "sequentialminus": [
            [
             0,
             "#0d0887"
            ],
            [
             0.1111111111111111,
             "#46039f"
            ],
            [
             0.2222222222222222,
             "#7201a8"
            ],
            [
             0.3333333333333333,
             "#9c179e"
            ],
            [
             0.4444444444444444,
             "#bd3786"
            ],
            [
             0.5555555555555556,
             "#d8576b"
            ],
            [
             0.6666666666666666,
             "#ed7953"
            ],
            [
             0.7777777777777778,
             "#fb9f3a"
            ],
            [
             0.8888888888888888,
             "#fdca26"
            ],
            [
             1,
             "#f0f921"
            ]
           ]
          },
          "colorway": [
           "#636efa",
           "#EF553B",
           "#00cc96",
           "#ab63fa",
           "#FFA15A",
           "#19d3f3",
           "#FF6692",
           "#B6E880",
           "#FF97FF",
           "#FECB52"
          ],
          "font": {
           "color": "#2a3f5f"
          },
          "geo": {
           "bgcolor": "white",
           "lakecolor": "white",
           "landcolor": "#E5ECF6",
           "showlakes": true,
           "showland": true,
           "subunitcolor": "white"
          },
          "hoverlabel": {
           "align": "left"
          },
          "hovermode": "closest",
          "mapbox": {
           "style": "light"
          },
          "paper_bgcolor": "white",
          "plot_bgcolor": "#E5ECF6",
          "polar": {
           "angularaxis": {
            "gridcolor": "white",
            "linecolor": "white",
            "ticks": ""
           },
           "bgcolor": "#E5ECF6",
           "radialaxis": {
            "gridcolor": "white",
            "linecolor": "white",
            "ticks": ""
           }
          },
          "scene": {
           "xaxis": {
            "backgroundcolor": "#E5ECF6",
            "gridcolor": "white",
            "gridwidth": 2,
            "linecolor": "white",
            "showbackground": true,
            "ticks": "",
            "zerolinecolor": "white"
           },
           "yaxis": {
            "backgroundcolor": "#E5ECF6",
            "gridcolor": "white",
            "gridwidth": 2,
            "linecolor": "white",
            "showbackground": true,
            "ticks": "",
            "zerolinecolor": "white"
           },
           "zaxis": {
            "backgroundcolor": "#E5ECF6",
            "gridcolor": "white",
            "gridwidth": 2,
            "linecolor": "white",
            "showbackground": true,
            "ticks": "",
            "zerolinecolor": "white"
           }
          },
          "shapedefaults": {
           "line": {
            "color": "#2a3f5f"
           }
          },
          "ternary": {
           "aaxis": {
            "gridcolor": "white",
            "linecolor": "white",
            "ticks": ""
           },
           "baxis": {
            "gridcolor": "white",
            "linecolor": "white",
            "ticks": ""
           },
           "bgcolor": "#E5ECF6",
           "caxis": {
            "gridcolor": "white",
            "linecolor": "white",
            "ticks": ""
           }
          },
          "title": {
           "x": 0.05
          },
          "xaxis": {
           "automargin": true,
           "gridcolor": "white",
           "linecolor": "white",
           "ticks": "",
           "title": {
            "standoff": 15
           },
           "zerolinecolor": "white",
           "zerolinewidth": 2
          },
          "yaxis": {
           "automargin": true,
           "gridcolor": "white",
           "linecolor": "white",
           "ticks": "",
           "title": {
            "standoff": 15
           },
           "zerolinecolor": "white",
           "zerolinewidth": 2
          }
         }
        }
       }
      }
     },
     "metadata": {},
     "output_type": "display_data"
    }
   ],
   "source": [
    "# importing required module\n",
    "import plotly.express as px\n",
    "\n",
    "# to have a same origin\n",
    "df_table[\"all\"] = \"Top 50 items\" \n",
    "\n",
    "# creating tree map using plotly\n",
    "fig = px.treemap(df_table.head(50), path=['all', \"items\"], values='incident_count',\n",
    "                  color=df_table[\"incident_count\"].head(50), hover_data=['items'],\n",
    "                  color_continuous_scale='Blues',\n",
    "                )\n",
    "# ploting the treemap\n",
    "fig.show()"
   ]
  },
  {
   "cell_type": "code",
   "execution_count": 17,
   "metadata": {},
   "outputs": [
    {
     "data": {
      "text/html": [
       "<div>\n",
       "<style scoped>\n",
       "    .dataframe tbody tr th:only-of-type {\n",
       "        vertical-align: middle;\n",
       "    }\n",
       "\n",
       "    .dataframe tbody tr th {\n",
       "        vertical-align: top;\n",
       "    }\n",
       "\n",
       "    .dataframe thead th {\n",
       "        text-align: right;\n",
       "    }\n",
       "</style>\n",
       "<table border=\"1\" class=\"dataframe\">\n",
       "  <thead>\n",
       "    <tr style=\"text-align: right;\">\n",
       "      <th></th>\n",
       "      <th>CHIPSET / ASP</th>\n",
       "      <th>CPU / MPU</th>\n",
       "      <th>DISCRETE</th>\n",
       "      <th>LINEAR IC</th>\n",
       "      <th>LOGIC IC</th>\n",
       "      <th>MEMORY_EMBEDED</th>\n",
       "      <th>MEMORY_SYSTEM</th>\n",
       "      <th>OPTICAL AND SENSOR</th>\n",
       "      <th>OTHERS</th>\n",
       "      <th>PEMCO</th>\n",
       "      <th>nan</th>\n",
       "    </tr>\n",
       "  </thead>\n",
       "  <tbody>\n",
       "    <tr>\n",
       "      <th>0</th>\n",
       "      <td>False</td>\n",
       "      <td>False</td>\n",
       "      <td>False</td>\n",
       "      <td>True</td>\n",
       "      <td>True</td>\n",
       "      <td>True</td>\n",
       "      <td>False</td>\n",
       "      <td>False</td>\n",
       "      <td>False</td>\n",
       "      <td>False</td>\n",
       "      <td>True</td>\n",
       "    </tr>\n",
       "    <tr>\n",
       "      <th>1</th>\n",
       "      <td>False</td>\n",
       "      <td>True</td>\n",
       "      <td>True</td>\n",
       "      <td>True</td>\n",
       "      <td>False</td>\n",
       "      <td>False</td>\n",
       "      <td>False</td>\n",
       "      <td>False</td>\n",
       "      <td>False</td>\n",
       "      <td>True</td>\n",
       "      <td>True</td>\n",
       "    </tr>\n",
       "    <tr>\n",
       "      <th>2</th>\n",
       "      <td>True</td>\n",
       "      <td>True</td>\n",
       "      <td>False</td>\n",
       "      <td>True</td>\n",
       "      <td>False</td>\n",
       "      <td>False</td>\n",
       "      <td>False</td>\n",
       "      <td>False</td>\n",
       "      <td>False</td>\n",
       "      <td>False</td>\n",
       "      <td>True</td>\n",
       "    </tr>\n",
       "    <tr>\n",
       "      <th>3</th>\n",
       "      <td>False</td>\n",
       "      <td>False</td>\n",
       "      <td>True</td>\n",
       "      <td>True</td>\n",
       "      <td>False</td>\n",
       "      <td>False</td>\n",
       "      <td>False</td>\n",
       "      <td>True</td>\n",
       "      <td>False</td>\n",
       "      <td>False</td>\n",
       "      <td>True</td>\n",
       "    </tr>\n",
       "    <tr>\n",
       "      <th>4</th>\n",
       "      <td>True</td>\n",
       "      <td>False</td>\n",
       "      <td>True</td>\n",
       "      <td>True</td>\n",
       "      <td>False</td>\n",
       "      <td>False</td>\n",
       "      <td>True</td>\n",
       "      <td>False</td>\n",
       "      <td>False</td>\n",
       "      <td>False</td>\n",
       "      <td>True</td>\n",
       "    </tr>\n",
       "  </tbody>\n",
       "</table>\n",
       "</div>"
      ],
      "text/plain": [
       "   CHIPSET / ASP  CPU / MPU  DISCRETE  LINEAR IC  LOGIC IC  MEMORY_EMBEDED  \\\n",
       "0          False      False     False       True      True            True   \n",
       "1          False       True      True       True     False           False   \n",
       "2           True       True     False       True     False           False   \n",
       "3          False      False      True       True     False           False   \n",
       "4           True      False      True       True     False           False   \n",
       "\n",
       "   MEMORY_SYSTEM  OPTICAL AND SENSOR  OTHERS  PEMCO   nan  \n",
       "0          False               False   False  False  True  \n",
       "1          False               False   False   True  True  \n",
       "2          False               False   False  False  True  \n",
       "3          False                True   False  False  True  \n",
       "4           True               False   False  False  True  "
      ]
     },
     "execution_count": 17,
     "metadata": {},
     "output_type": "execute_result"
    }
   ],
   "source": [
    "# Transform Every Transaction to Seperate List & Gather Them into Numpy Array\n",
    "transaction = []\n",
    "for i in range(data.shape[0]):\n",
    "    transaction.append([str(data.values[i,j]) for j in range(data.shape[1])])\n",
    "\n",
    "# creating the numpy array of the transactions\n",
    "transaction = np.array(transaction)\n",
    "\n",
    "# importing the required module\n",
    "from mlxtend.preprocessing import TransactionEncoder\n",
    "\n",
    "# initializing the transactionEncoder\n",
    "te = TransactionEncoder()\n",
    "te_ary = te.fit(transaction).transform(transaction)\n",
    "dataset = pd.DataFrame(te_ary, columns=te.columns_)\n",
    "\n",
    "# dataset after encoded\n",
    "dataset.head()"
   ]
  },
  {
   "cell_type": "code",
   "execution_count": 18,
   "metadata": {},
   "outputs": [
    {
     "data": {
      "text/plain": [
       "(183, 10)"
      ]
     },
     "execution_count": 18,
     "metadata": {},
     "output_type": "execute_result"
    }
   ],
   "source": [
    "# select top 30 items\n",
    "first30 = df_table[\"items\"].head(30).values \n",
    "\n",
    "# Extract Top 30\n",
    "dataset = dataset.loc[:,first30] \n",
    "\n",
    "# shape of the dataset\n",
    "dataset.shape"
   ]
  },
  {
   "cell_type": "code",
   "execution_count": 19,
   "metadata": {},
   "outputs": [
    {
     "data": {
      "text/html": [
       "<div>\n",
       "<style scoped>\n",
       "    .dataframe tbody tr th:only-of-type {\n",
       "        vertical-align: middle;\n",
       "    }\n",
       "\n",
       "    .dataframe tbody tr th {\n",
       "        vertical-align: top;\n",
       "    }\n",
       "\n",
       "    .dataframe thead th {\n",
       "        text-align: right;\n",
       "    }\n",
       "</style>\n",
       "<table border=\"1\" class=\"dataframe\">\n",
       "  <thead>\n",
       "    <tr style=\"text-align: right;\">\n",
       "      <th></th>\n",
       "      <th>support</th>\n",
       "      <th>itemsets</th>\n",
       "    </tr>\n",
       "  </thead>\n",
       "  <tbody>\n",
       "    <tr>\n",
       "      <th>0</th>\n",
       "      <td>0.508197</td>\n",
       "      <td>(LINEAR IC)</td>\n",
       "    </tr>\n",
       "    <tr>\n",
       "      <th>1</th>\n",
       "      <td>0.459016</td>\n",
       "      <td>(LOGIC IC)</td>\n",
       "    </tr>\n",
       "    <tr>\n",
       "      <th>2</th>\n",
       "      <td>0.338798</td>\n",
       "      <td>(MEMORY_EMBEDED)</td>\n",
       "    </tr>\n",
       "    <tr>\n",
       "      <th>3</th>\n",
       "      <td>0.519126</td>\n",
       "      <td>(DISCRETE)</td>\n",
       "    </tr>\n",
       "    <tr>\n",
       "      <th>4</th>\n",
       "      <td>0.306011</td>\n",
       "      <td>(CPU / MPU)</td>\n",
       "    </tr>\n",
       "    <tr>\n",
       "      <th>5</th>\n",
       "      <td>0.213115</td>\n",
       "      <td>(PEMCO)</td>\n",
       "    </tr>\n",
       "    <tr>\n",
       "      <th>6</th>\n",
       "      <td>0.229508</td>\n",
       "      <td>(CHIPSET / ASP)</td>\n",
       "    </tr>\n",
       "    <tr>\n",
       "      <th>7</th>\n",
       "      <td>0.251366</td>\n",
       "      <td>(OPTICAL AND SENSOR)</td>\n",
       "    </tr>\n",
       "    <tr>\n",
       "      <th>8</th>\n",
       "      <td>0.174863</td>\n",
       "      <td>(MEMORY_SYSTEM)</td>\n",
       "    </tr>\n",
       "    <tr>\n",
       "      <th>9</th>\n",
       "      <td>0.333333</td>\n",
       "      <td>(OTHERS)</td>\n",
       "    </tr>\n",
       "  </tbody>\n",
       "</table>\n",
       "</div>"
      ],
      "text/plain": [
       "    support              itemsets\n",
       "0  0.508197           (LINEAR IC)\n",
       "1  0.459016            (LOGIC IC)\n",
       "2  0.338798      (MEMORY_EMBEDED)\n",
       "3  0.519126            (DISCRETE)\n",
       "4  0.306011           (CPU / MPU)\n",
       "5  0.213115               (PEMCO)\n",
       "6  0.229508       (CHIPSET / ASP)\n",
       "7  0.251366  (OPTICAL AND SENSOR)\n",
       "8  0.174863       (MEMORY_SYSTEM)\n",
       "9  0.333333              (OTHERS)"
      ]
     },
     "execution_count": 19,
     "metadata": {},
     "output_type": "execute_result"
    }
   ],
   "source": [
    "#Importing Libraries\n",
    "from mlxtend.frequent_patterns import fpgrowth\n",
    "\n",
    "#running the fpgrowth algorithm\n",
    "res=fpgrowth(dataset,min_support=0.05, use_colnames=True)\n",
    "\n",
    "# printing top 10\n",
    "res.head(10)"
   ]
  },
  {
   "cell_type": "code",
   "execution_count": 20,
   "metadata": {},
   "outputs": [
    {
     "data": {
      "text/html": [
       "<div>\n",
       "<style scoped>\n",
       "    .dataframe tbody tr th:only-of-type {\n",
       "        vertical-align: middle;\n",
       "    }\n",
       "\n",
       "    .dataframe tbody tr th {\n",
       "        vertical-align: top;\n",
       "    }\n",
       "\n",
       "    .dataframe thead th {\n",
       "        text-align: right;\n",
       "    }\n",
       "</style>\n",
       "<table border=\"1\" class=\"dataframe\">\n",
       "  <thead>\n",
       "    <tr style=\"text-align: right;\">\n",
       "      <th></th>\n",
       "      <th>antecedents</th>\n",
       "      <th>consequents</th>\n",
       "      <th>antecedent support</th>\n",
       "      <th>consequent support</th>\n",
       "      <th>support</th>\n",
       "      <th>confidence</th>\n",
       "      <th>lift</th>\n",
       "      <th>leverage</th>\n",
       "      <th>conviction</th>\n",
       "    </tr>\n",
       "  </thead>\n",
       "  <tbody>\n",
       "    <tr>\n",
       "      <th>0</th>\n",
       "      <td>(DISCRETE)</td>\n",
       "      <td>(LINEAR IC)</td>\n",
       "      <td>0.519126</td>\n",
       "      <td>0.508197</td>\n",
       "      <td>0.316940</td>\n",
       "      <td>0.610526</td>\n",
       "      <td>1.201358</td>\n",
       "      <td>0.053122</td>\n",
       "      <td>1.262738</td>\n",
       "    </tr>\n",
       "    <tr>\n",
       "      <th>1</th>\n",
       "      <td>(LINEAR IC)</td>\n",
       "      <td>(DISCRETE)</td>\n",
       "      <td>0.508197</td>\n",
       "      <td>0.519126</td>\n",
       "      <td>0.316940</td>\n",
       "      <td>0.623656</td>\n",
       "      <td>1.201358</td>\n",
       "      <td>0.053122</td>\n",
       "      <td>1.277752</td>\n",
       "    </tr>\n",
       "    <tr>\n",
       "      <th>2</th>\n",
       "      <td>(LOGIC IC)</td>\n",
       "      <td>(LINEAR IC)</td>\n",
       "      <td>0.459016</td>\n",
       "      <td>0.508197</td>\n",
       "      <td>0.267760</td>\n",
       "      <td>0.583333</td>\n",
       "      <td>1.147849</td>\n",
       "      <td>0.034489</td>\n",
       "      <td>1.180328</td>\n",
       "    </tr>\n",
       "    <tr>\n",
       "      <th>3</th>\n",
       "      <td>(LINEAR IC)</td>\n",
       "      <td>(LOGIC IC)</td>\n",
       "      <td>0.508197</td>\n",
       "      <td>0.459016</td>\n",
       "      <td>0.267760</td>\n",
       "      <td>0.526882</td>\n",
       "      <td>1.147849</td>\n",
       "      <td>0.034489</td>\n",
       "      <td>1.143443</td>\n",
       "    </tr>\n",
       "    <tr>\n",
       "      <th>4</th>\n",
       "      <td>(DISCRETE)</td>\n",
       "      <td>(LOGIC IC)</td>\n",
       "      <td>0.519126</td>\n",
       "      <td>0.459016</td>\n",
       "      <td>0.295082</td>\n",
       "      <td>0.568421</td>\n",
       "      <td>1.238346</td>\n",
       "      <td>0.056795</td>\n",
       "      <td>1.253499</td>\n",
       "    </tr>\n",
       "    <tr>\n",
       "      <th>5</th>\n",
       "      <td>(LOGIC IC)</td>\n",
       "      <td>(DISCRETE)</td>\n",
       "      <td>0.459016</td>\n",
       "      <td>0.519126</td>\n",
       "      <td>0.295082</td>\n",
       "      <td>0.642857</td>\n",
       "      <td>1.238346</td>\n",
       "      <td>0.056795</td>\n",
       "      <td>1.346448</td>\n",
       "    </tr>\n",
       "    <tr>\n",
       "      <th>6</th>\n",
       "      <td>(DISCRETE, LOGIC IC)</td>\n",
       "      <td>(LINEAR IC)</td>\n",
       "      <td>0.295082</td>\n",
       "      <td>0.508197</td>\n",
       "      <td>0.191257</td>\n",
       "      <td>0.648148</td>\n",
       "      <td>1.275388</td>\n",
       "      <td>0.041297</td>\n",
       "      <td>1.397757</td>\n",
       "    </tr>\n",
       "    <tr>\n",
       "      <th>7</th>\n",
       "      <td>(DISCRETE, LINEAR IC)</td>\n",
       "      <td>(LOGIC IC)</td>\n",
       "      <td>0.316940</td>\n",
       "      <td>0.459016</td>\n",
       "      <td>0.191257</td>\n",
       "      <td>0.603448</td>\n",
       "      <td>1.314655</td>\n",
       "      <td>0.045776</td>\n",
       "      <td>1.364220</td>\n",
       "    </tr>\n",
       "    <tr>\n",
       "      <th>8</th>\n",
       "      <td>(LOGIC IC, LINEAR IC)</td>\n",
       "      <td>(DISCRETE)</td>\n",
       "      <td>0.267760</td>\n",
       "      <td>0.519126</td>\n",
       "      <td>0.191257</td>\n",
       "      <td>0.714286</td>\n",
       "      <td>1.375940</td>\n",
       "      <td>0.052256</td>\n",
       "      <td>1.683060</td>\n",
       "    </tr>\n",
       "    <tr>\n",
       "      <th>9</th>\n",
       "      <td>(DISCRETE)</td>\n",
       "      <td>(LOGIC IC, LINEAR IC)</td>\n",
       "      <td>0.519126</td>\n",
       "      <td>0.267760</td>\n",
       "      <td>0.191257</td>\n",
       "      <td>0.368421</td>\n",
       "      <td>1.375940</td>\n",
       "      <td>0.052256</td>\n",
       "      <td>1.159381</td>\n",
       "    </tr>\n",
       "  </tbody>\n",
       "</table>\n",
       "</div>"
      ],
      "text/plain": [
       "             antecedents            consequents  antecedent support  \\\n",
       "0             (DISCRETE)            (LINEAR IC)            0.519126   \n",
       "1            (LINEAR IC)             (DISCRETE)            0.508197   \n",
       "2             (LOGIC IC)            (LINEAR IC)            0.459016   \n",
       "3            (LINEAR IC)             (LOGIC IC)            0.508197   \n",
       "4             (DISCRETE)             (LOGIC IC)            0.519126   \n",
       "5             (LOGIC IC)             (DISCRETE)            0.459016   \n",
       "6   (DISCRETE, LOGIC IC)            (LINEAR IC)            0.295082   \n",
       "7  (DISCRETE, LINEAR IC)             (LOGIC IC)            0.316940   \n",
       "8  (LOGIC IC, LINEAR IC)             (DISCRETE)            0.267760   \n",
       "9             (DISCRETE)  (LOGIC IC, LINEAR IC)            0.519126   \n",
       "\n",
       "   consequent support   support  confidence      lift  leverage  conviction  \n",
       "0            0.508197  0.316940    0.610526  1.201358  0.053122    1.262738  \n",
       "1            0.519126  0.316940    0.623656  1.201358  0.053122    1.277752  \n",
       "2            0.508197  0.267760    0.583333  1.147849  0.034489    1.180328  \n",
       "3            0.459016  0.267760    0.526882  1.147849  0.034489    1.143443  \n",
       "4            0.459016  0.295082    0.568421  1.238346  0.056795    1.253499  \n",
       "5            0.519126  0.295082    0.642857  1.238346  0.056795    1.346448  \n",
       "6            0.508197  0.191257    0.648148  1.275388  0.041297    1.397757  \n",
       "7            0.459016  0.191257    0.603448  1.314655  0.045776    1.364220  \n",
       "8            0.519126  0.191257    0.714286  1.375940  0.052256    1.683060  \n",
       "9            0.267760  0.191257    0.368421  1.375940  0.052256    1.159381  "
      ]
     },
     "execution_count": 20,
     "metadata": {},
     "output_type": "execute_result"
    }
   ],
   "source": [
    "# importing required module\n",
    "from mlxtend.frequent_patterns import association_rules\n",
    "\n",
    "# creating asssociation rules\n",
    "res=association_rules(res, metric=\"lift\", min_threshold=1)\n",
    "\n",
    "# printing association rules\n",
    "res.head(10)"
   ]
  },
  {
   "cell_type": "code",
   "execution_count": 23,
   "metadata": {},
   "outputs": [
    {
     "data": {
      "text/html": [
       "<div>\n",
       "<style scoped>\n",
       "    .dataframe tbody tr th:only-of-type {\n",
       "        vertical-align: middle;\n",
       "    }\n",
       "\n",
       "    .dataframe tbody tr th {\n",
       "        vertical-align: top;\n",
       "    }\n",
       "\n",
       "    .dataframe thead th {\n",
       "        text-align: right;\n",
       "    }\n",
       "</style>\n",
       "<table border=\"1\" class=\"dataframe\">\n",
       "  <thead>\n",
       "    <tr style=\"text-align: right;\">\n",
       "      <th></th>\n",
       "      <th>antecedents</th>\n",
       "      <th>consequents</th>\n",
       "      <th>antecedent support</th>\n",
       "      <th>consequent support</th>\n",
       "      <th>support</th>\n",
       "      <th>confidence</th>\n",
       "      <th>lift</th>\n",
       "      <th>leverage</th>\n",
       "      <th>conviction</th>\n",
       "    </tr>\n",
       "  </thead>\n",
       "  <tbody>\n",
       "    <tr>\n",
       "      <th>0</th>\n",
       "      <td>(DISCRETE)</td>\n",
       "      <td>(LINEAR IC)</td>\n",
       "      <td>0.519126</td>\n",
       "      <td>0.508197</td>\n",
       "      <td>0.316940</td>\n",
       "      <td>0.610526</td>\n",
       "      <td>1.201358</td>\n",
       "      <td>0.053122</td>\n",
       "      <td>1.262738</td>\n",
       "    </tr>\n",
       "    <tr>\n",
       "      <th>1</th>\n",
       "      <td>(LINEAR IC)</td>\n",
       "      <td>(DISCRETE)</td>\n",
       "      <td>0.508197</td>\n",
       "      <td>0.519126</td>\n",
       "      <td>0.316940</td>\n",
       "      <td>0.623656</td>\n",
       "      <td>1.201358</td>\n",
       "      <td>0.053122</td>\n",
       "      <td>1.277752</td>\n",
       "    </tr>\n",
       "    <tr>\n",
       "      <th>2</th>\n",
       "      <td>(LOGIC IC)</td>\n",
       "      <td>(LINEAR IC)</td>\n",
       "      <td>0.459016</td>\n",
       "      <td>0.508197</td>\n",
       "      <td>0.267760</td>\n",
       "      <td>0.583333</td>\n",
       "      <td>1.147849</td>\n",
       "      <td>0.034489</td>\n",
       "      <td>1.180328</td>\n",
       "    </tr>\n",
       "    <tr>\n",
       "      <th>3</th>\n",
       "      <td>(LINEAR IC)</td>\n",
       "      <td>(LOGIC IC)</td>\n",
       "      <td>0.508197</td>\n",
       "      <td>0.459016</td>\n",
       "      <td>0.267760</td>\n",
       "      <td>0.526882</td>\n",
       "      <td>1.147849</td>\n",
       "      <td>0.034489</td>\n",
       "      <td>1.143443</td>\n",
       "    </tr>\n",
       "    <tr>\n",
       "      <th>4</th>\n",
       "      <td>(DISCRETE)</td>\n",
       "      <td>(LOGIC IC)</td>\n",
       "      <td>0.519126</td>\n",
       "      <td>0.459016</td>\n",
       "      <td>0.295082</td>\n",
       "      <td>0.568421</td>\n",
       "      <td>1.238346</td>\n",
       "      <td>0.056795</td>\n",
       "      <td>1.253499</td>\n",
       "    </tr>\n",
       "    <tr>\n",
       "      <th>5</th>\n",
       "      <td>(LOGIC IC)</td>\n",
       "      <td>(DISCRETE)</td>\n",
       "      <td>0.459016</td>\n",
       "      <td>0.519126</td>\n",
       "      <td>0.295082</td>\n",
       "      <td>0.642857</td>\n",
       "      <td>1.238346</td>\n",
       "      <td>0.056795</td>\n",
       "      <td>1.346448</td>\n",
       "    </tr>\n",
       "    <tr>\n",
       "      <th>6</th>\n",
       "      <td>(DISCRETE, LOGIC IC)</td>\n",
       "      <td>(LINEAR IC)</td>\n",
       "      <td>0.295082</td>\n",
       "      <td>0.508197</td>\n",
       "      <td>0.191257</td>\n",
       "      <td>0.648148</td>\n",
       "      <td>1.275388</td>\n",
       "      <td>0.041297</td>\n",
       "      <td>1.397757</td>\n",
       "    </tr>\n",
       "    <tr>\n",
       "      <th>7</th>\n",
       "      <td>(DISCRETE, LINEAR IC)</td>\n",
       "      <td>(LOGIC IC)</td>\n",
       "      <td>0.316940</td>\n",
       "      <td>0.459016</td>\n",
       "      <td>0.191257</td>\n",
       "      <td>0.603448</td>\n",
       "      <td>1.314655</td>\n",
       "      <td>0.045776</td>\n",
       "      <td>1.364220</td>\n",
       "    </tr>\n",
       "    <tr>\n",
       "      <th>8</th>\n",
       "      <td>(LOGIC IC, LINEAR IC)</td>\n",
       "      <td>(DISCRETE)</td>\n",
       "      <td>0.267760</td>\n",
       "      <td>0.519126</td>\n",
       "      <td>0.191257</td>\n",
       "      <td>0.714286</td>\n",
       "      <td>1.375940</td>\n",
       "      <td>0.052256</td>\n",
       "      <td>1.683060</td>\n",
       "    </tr>\n",
       "    <tr>\n",
       "      <th>9</th>\n",
       "      <td>(DISCRETE)</td>\n",
       "      <td>(LOGIC IC, LINEAR IC)</td>\n",
       "      <td>0.519126</td>\n",
       "      <td>0.267760</td>\n",
       "      <td>0.191257</td>\n",
       "      <td>0.368421</td>\n",
       "      <td>1.375940</td>\n",
       "      <td>0.052256</td>\n",
       "      <td>1.159381</td>\n",
       "    </tr>\n",
       "  </tbody>\n",
       "</table>\n",
       "</div>"
      ],
      "text/plain": [
       "             antecedents            consequents  antecedent support  \\\n",
       "0             (DISCRETE)            (LINEAR IC)            0.519126   \n",
       "1            (LINEAR IC)             (DISCRETE)            0.508197   \n",
       "2             (LOGIC IC)            (LINEAR IC)            0.459016   \n",
       "3            (LINEAR IC)             (LOGIC IC)            0.508197   \n",
       "4             (DISCRETE)             (LOGIC IC)            0.519126   \n",
       "5             (LOGIC IC)             (DISCRETE)            0.459016   \n",
       "6   (DISCRETE, LOGIC IC)            (LINEAR IC)            0.295082   \n",
       "7  (DISCRETE, LINEAR IC)             (LOGIC IC)            0.316940   \n",
       "8  (LOGIC IC, LINEAR IC)             (DISCRETE)            0.267760   \n",
       "9             (DISCRETE)  (LOGIC IC, LINEAR IC)            0.519126   \n",
       "\n",
       "   consequent support   support  confidence      lift  leverage  conviction  \n",
       "0            0.508197  0.316940    0.610526  1.201358  0.053122    1.262738  \n",
       "1            0.519126  0.316940    0.623656  1.201358  0.053122    1.277752  \n",
       "2            0.508197  0.267760    0.583333  1.147849  0.034489    1.180328  \n",
       "3            0.459016  0.267760    0.526882  1.147849  0.034489    1.143443  \n",
       "4            0.459016  0.295082    0.568421  1.238346  0.056795    1.253499  \n",
       "5            0.519126  0.295082    0.642857  1.238346  0.056795    1.346448  \n",
       "6            0.508197  0.191257    0.648148  1.275388  0.041297    1.397757  \n",
       "7            0.459016  0.191257    0.603448  1.314655  0.045776    1.364220  \n",
       "8            0.519126  0.191257    0.714286  1.375940  0.052256    1.683060  \n",
       "9            0.267760  0.191257    0.368421  1.375940  0.052256    1.159381  "
      ]
     },
     "execution_count": 23,
     "metadata": {},
     "output_type": "execute_result"
    }
   ],
   "source": [
    "# Sort values based on confidence\n",
    "res.sort_values(\"confidence\",ascending=False)"
   ]
  },
  {
   "cell_type": "code",
   "execution_count": 26,
   "metadata": {},
   "outputs": [
    {
     "name": "stderr",
     "output_type": "stream",
     "text": [
      "c:\\Users\\USER\\anaconda3\\lib\\site-packages\\mlxtend\\frequent_patterns\\fpcommon.py:111: DeprecationWarning:\n",
      "\n",
      "DataFrames with non-bool types result in worse computationalperformance and their support might be discontinued in the future.Please use a DataFrame with bool type\n",
      "\n"
     ]
    },
    {
     "ename": "ValueError",
     "evalue": "The allowed values for a DataFrame are True, False, 0, 1. Found value LINEAR IC",
     "output_type": "error",
     "traceback": [
      "\u001b[1;31m---------------------------------------------------------------------------\u001b[0m",
      "\u001b[1;31mValueError\u001b[0m                                Traceback (most recent call last)",
      "\u001b[1;32mc:\\Users\\USER\\Desktop\\trade_data\\tradeFP-Growth.ipynb Cell 16\u001b[0m in \u001b[0;36m<cell line: 13>\u001b[1;34m()\u001b[0m\n\u001b[0;32m     <a href='vscode-notebook-cell:/c%3A/Users/USER/Desktop/trade_data/tradeFP-Growth.ipynb#X21sZmlsZQ%3D%3D?line=13'>14</a>\u001b[0m \u001b[39mfor\u001b[39;00m xB \u001b[39min\u001b[39;00m \u001b[39mrange\u001b[39m(\u001b[39m1\u001b[39m,\u001b[39m10\u001b[39m):\n\u001b[0;32m     <a href='vscode-notebook-cell:/c%3A/Users/USER/Desktop/trade_data/tradeFP-Growth.ipynb#X21sZmlsZQ%3D%3D?line=14'>15</a>\u001b[0m     timeStart\u001b[39m=\u001b[39mtime\u001b[39m.\u001b[39mtime()\n\u001b[1;32m---> <a href='vscode-notebook-cell:/c%3A/Users/USER/Desktop/trade_data/tradeFP-Growth.ipynb#X21sZmlsZQ%3D%3D?line=15'>16</a>\u001b[0m     freq_items \u001b[39m=\u001b[39m fpgrowth(data, min_support\u001b[39m=\u001b[39;49mxA\u001b[39m/\u001b[39;49m\u001b[39m10\u001b[39;49m)\n\u001b[0;32m     <a href='vscode-notebook-cell:/c%3A/Users/USER/Desktop/trade_data/tradeFP-Growth.ipynb#X21sZmlsZQ%3D%3D?line=16'>17</a>\u001b[0m     rules \u001b[39m=\u001b[39m association_rules(freq_items, metric\u001b[39m=\u001b[39m\u001b[39m\"\u001b[39m\u001b[39mconfidence\u001b[39m\u001b[39m\"\u001b[39m, min_threshold\u001b[39m=\u001b[39mxB\u001b[39m/\u001b[39m\u001b[39m10\u001b[39m)\n\u001b[0;32m     <a href='vscode-notebook-cell:/c%3A/Users/USER/Desktop/trade_data/tradeFP-Growth.ipynb#X21sZmlsZQ%3D%3D?line=17'>18</a>\u001b[0m     timeFinish\u001b[39m=\u001b[39mtime\u001b[39m.\u001b[39mtime()\n",
      "File \u001b[1;32mc:\\Users\\USER\\anaconda3\\lib\\site-packages\\mlxtend\\frequent_patterns\\fpgrowth.py:73\u001b[0m, in \u001b[0;36mfpgrowth\u001b[1;34m(df, min_support, use_colnames, max_len, verbose)\u001b[0m\n\u001b[0;32m     12\u001b[0m \u001b[39mdef\u001b[39;00m \u001b[39mfpgrowth\u001b[39m(df, min_support\u001b[39m=\u001b[39m\u001b[39m0.5\u001b[39m, use_colnames\u001b[39m=\u001b[39m\u001b[39mFalse\u001b[39;00m, max_len\u001b[39m=\u001b[39m\u001b[39mNone\u001b[39;00m, verbose\u001b[39m=\u001b[39m\u001b[39m0\u001b[39m):\n\u001b[0;32m     13\u001b[0m     \u001b[39m\"\"\"Get frequent itemsets from a one-hot DataFrame\u001b[39;00m\n\u001b[0;32m     14\u001b[0m \n\u001b[0;32m     15\u001b[0m \u001b[39m    Parameters\u001b[39;00m\n\u001b[1;32m   (...)\u001b[0m\n\u001b[0;32m     71\u001b[0m \n\u001b[0;32m     72\u001b[0m \u001b[39m    \"\"\"\u001b[39;00m\n\u001b[1;32m---> 73\u001b[0m     fpc\u001b[39m.\u001b[39;49mvalid_input_check(df)\n\u001b[0;32m     75\u001b[0m     \u001b[39mif\u001b[39;00m min_support \u001b[39m<\u001b[39m\u001b[39m=\u001b[39m \u001b[39m0.0\u001b[39m:\n\u001b[0;32m     76\u001b[0m         \u001b[39mraise\u001b[39;00m \u001b[39mValueError\u001b[39;00m(\n\u001b[0;32m     77\u001b[0m             \u001b[39m\"\u001b[39m\u001b[39m`min_support` must be a positive \u001b[39m\u001b[39m\"\u001b[39m\n\u001b[0;32m     78\u001b[0m             \u001b[39m\"\u001b[39m\u001b[39mnumber within the interval `(0, 1]`. \u001b[39m\u001b[39m\"\u001b[39m\n\u001b[0;32m     79\u001b[0m             \u001b[39m\"\u001b[39m\u001b[39mGot \u001b[39m\u001b[39m%s\u001b[39;00m\u001b[39m.\u001b[39m\u001b[39m\"\u001b[39m \u001b[39m%\u001b[39m min_support\n\u001b[0;32m     80\u001b[0m         )\n",
      "File \u001b[1;32mc:\\Users\\USER\\anaconda3\\lib\\site-packages\\mlxtend\\frequent_patterns\\fpcommon.py:133\u001b[0m, in \u001b[0;36mvalid_input_check\u001b[1;34m(df)\u001b[0m\n\u001b[0;32m    128\u001b[0m val \u001b[39m=\u001b[39m values[\u001b[39mtuple\u001b[39m(loc[\u001b[39m0\u001b[39m] \u001b[39mfor\u001b[39;00m loc \u001b[39min\u001b[39;00m idxs)]\n\u001b[0;32m    129\u001b[0m s \u001b[39m=\u001b[39m (\n\u001b[0;32m    130\u001b[0m     \u001b[39m\"\u001b[39m\u001b[39mThe allowed values for a DataFrame\u001b[39m\u001b[39m\"\u001b[39m\n\u001b[0;32m    131\u001b[0m     \u001b[39m\"\u001b[39m\u001b[39m are True, False, 0, 1. Found value \u001b[39m\u001b[39m%s\u001b[39;00m\u001b[39m\"\u001b[39m \u001b[39m%\u001b[39m (val)\n\u001b[0;32m    132\u001b[0m )\n\u001b[1;32m--> 133\u001b[0m \u001b[39mraise\u001b[39;00m \u001b[39mValueError\u001b[39;00m(s)\n",
      "\u001b[1;31mValueError\u001b[0m: The allowed values for a DataFrame are True, False, 0, 1. Found value LINEAR IC"
     ]
    }
   ],
   "source": [
    "import pandas as pd\n",
    "import numpy as np\n",
    "from mlxtend.frequent_patterns import fpgrowth, association_rules\n",
    "import matplotlib.pyplot as plt\n",
    "x=[]\n",
    "y=[]\n",
    "z=[]\n",
    "st=[]\n",
    "setItem=[]\n",
    "lift=[]\n",
    "confidence=[]\n",
    "import time\n",
    "for xA in range(1,10):\n",
    "    for xB in range(1,10):\n",
    "        timeStart=time.time()\n",
    "        freq_items = fpgrowth(data, min_support=xA/10)\n",
    "        rules = association_rules(freq_items, metric=\"confidence\", min_threshold=xB/10)\n",
    "        timeFinish=time.time()\n",
    "        #抓取rules裡的支持度，並讓items為0、1、2、3、4\n",
    "        # for r in range(0,int(rules.support.size)):\n",
    "        #     items=[list(rules.antecedents[r]),list(rules.consequents[r]),rules.support[r],rules.confidence[r],rules.lift[r]]\n",
    "        #     lift.append(rules.lift[r])\n",
    "        #     confidence.append(rules.confidence[r])\n",
    "        #     setItem.append(items)\n",
    "# fit = np.polyfit(rules['lift'], rules['confidence'], 1)\n",
    "# fit_fn = np.poly1d(fit)\n",
    "\n",
    "# plt.plot(lift,confidence,'yo')\n",
    "\n",
    "#  fit_fn(rules['lift']))\n",
    "\n",
    "# plt.xlabel('Confidence')\n",
    "# plt.ylabel('Lift')\n",
    "# plt.title('Lift vs Confidence')\n",
    "\n",
    "\n",
    "# support= input(\"請輸入支持度:\")\n",
    "# print(\"您輸入的支持度為:\"+support)\n",
    "# confidence= input(\"請輸入信心度:\")\n",
    "# print(\"您輸入的信心度為:\"+confidence)\n",
    "# item= input(\"請輸入商品類型(PRODUCT_TYPE，若有多項請以「,」分開):\")\n",
    "# print(\"您輸入的商品類型為:\"+item)\n",
    "# RProductList=[]\n",
    "# RProduct=\"\"\n",
    "# inputItem=item.split(',')\n",
    "# inputItemNum=len(inputItem)\n",
    "# inputChkNum=0\n",
    "# for r in setItem:\n",
    "#     if(r[2]>=float(support) and r[3]>=float(confidence)):\n",
    "#         for i in r[0]:\n",
    "#             for ii in inputItem:\n",
    "#                 if(i==ii):\n",
    "#                     inputChkNum=inputChkNum+1\n",
    "#                     if(inputItemNum==inputChkNum):\n",
    "#                         break\n",
    "#             if(inputItemNum==inputChkNum):\n",
    "#                 RProductList.append(r[1])\n",
    "#                 break\n",
    "        \n",
    "\n",
    "# print(\"==============================\")\n",
    "# print(\"為您推薦以下商品類型:\")\n",
    "# #去除nan值，還有如果不是nan值就跑回圈\n",
    "# rItem=[]\n",
    "# for r in RProductList:\n",
    "#     for c in r:\n",
    "#         if(c is not np.nan):\n",
    "#             isSave=False\n",
    "#             for i in rItem:\n",
    "#                 if(i==c):\n",
    "#                     isSave=True\n",
    "#                     break\n",
    "#             if(isSave==False):\n",
    "#                 rItem.append(c)\n",
    "# #推薦商品不能放在output裡面\n",
    "# itemsSetList=[]\n",
    "# for r in rItem:\n",
    "#     isSave=False\n",
    "#     for i in inputItem:\n",
    "#         if(r==i):\n",
    "#             isSave=True\n",
    "#     if(isSave==False):\n",
    "#         itemsSetList.append(r)\n",
    "# print(itemsSetList)"
   ]
  },
  {
   "cell_type": "code",
   "execution_count": 16,
   "metadata": {},
   "outputs": [],
   "source": [
    "# import pandas as pd\n",
    "# from mlxtend.preprocessing import TransactionEncoder\n",
    "# from mlxtend.frequent_patterns import fpgrowth\n",
    "# from mlxtend.frequent_patterns import mineTree\n",
    "# from mlxtend.frequent_patterns import association_rules\n",
    "# parsedDat=[line.split() for line in open('Trade_Data_Normalization_v7.csv').readline()]\n",
    "# initSet=fpgrowth.createInitSet(parsedDat)\n",
    "# myFPtree,myHeaderTab=fpgrowth.createTree(initSet,100000)\n",
    "# myFreqList=[]\n",
    "# fpgrowth.mineTree(myFPtree,myHeaderTab,100000,set([]),myFreqList)\n",
    "\n",
    "\n",
    "\n",
    "\n",
    "\n",
    "# data = pd.read_csv('Trade_Data_Normalization_v7.csv', sep=',')\n",
    "# te = TransactionEncoder()\n",
    "# te_ary = te.fit(data).transform(data)\n",
    "# df = pd.DataFrame(te_ary, columns=te.columns_)\n",
    "# df"
   ]
  },
  {
   "cell_type": "code",
   "execution_count": 17,
   "metadata": {},
   "outputs": [],
   "source": [
    "# items = set()\n",
    "# for col in df:\n",
    "#     items.update(df[col].unique())\n",
    "# print(items)"
   ]
  },
  {
   "cell_type": "code",
   "execution_count": 18,
   "metadata": {},
   "outputs": [],
   "source": [
    "# itemset = set(items)\n",
    "# encoded_vals = []\n",
    "# for index, row in df.iterrows():\n",
    "#     rowset = set(row) \n",
    "#     labels = {}\n",
    "#     uncommons = list(itemset - rowset)\n",
    "#     commons = list(itemset.intersection(rowset))\n",
    "#     for uc in uncommons:\n",
    "#         labels[uc] = 0\n",
    "#     for com in commons:\n",
    "#         labels[com] = 1\n",
    "#     encoded_vals.append(labels)\n",
    "# encoded_vals[0]\n",
    "# ohe_df = pd.DataFrame(encoded_vals)"
   ]
  },
  {
   "cell_type": "code",
   "execution_count": 19,
   "metadata": {},
   "outputs": [],
   "source": [
    "# from mlxtend.frequent_patterns import fpgrowth\n",
    "# freq_items = fpgrowth(ohe_df, min_support=0.6,use_colnames=False)\n",
    "# freq_items.head(20)"
   ]
  },
  {
   "cell_type": "code",
   "execution_count": null,
   "metadata": {},
   "outputs": [],
   "source": []
  }
 ],
 "metadata": {
  "kernelspec": {
   "display_name": "base",
   "language": "python",
   "name": "python3"
  },
  "language_info": {
   "codemirror_mode": {
    "name": "ipython",
    "version": 3
   },
   "file_extension": ".py",
   "mimetype": "text/x-python",
   "name": "python",
   "nbconvert_exporter": "python",
   "pygments_lexer": "ipython3",
   "version": "3.9.12"
  },
  "orig_nbformat": 4,
  "vscode": {
   "interpreter": {
    "hash": "263930470851f494f0ed2879c35b57985588df20f9e529b86e97dd5eb9ddc466"
   }
  }
 },
 "nbformat": 4,
 "nbformat_minor": 2
}
